{
 "cells": [
  {
   "cell_type": "code",
   "execution_count": 45,
   "metadata": {},
   "outputs": [],
   "source": [
    "import matplotlib.pyplot as plt\n",
    "import cv2\n",
    "import pandas as pd\n",
    "import numpy as np\n",
    "import os\n",
    "import random\n",
    "from PIL import Image"
   ]
  },
  {
   "cell_type": "markdown",
   "metadata": {},
   "source": [
    "# Download Dataset"
   ]
  },
  {
   "cell_type": "code",
   "execution_count": 5,
   "metadata": {},
   "outputs": [
    {
     "name": "stdout",
     "output_type": "stream",
     "text": [
      "Resuming download from 189792256 bytes (14629214 bytes left)...\n",
      "Resuming download from https://www.kaggle.com/api/v1/datasets/download/aryashah2k/breast-ultrasound-images-dataset?dataset_version_number=1 (189792256/204421470) bytes left.\n"
     ]
    },
    {
     "name": "stderr",
     "output_type": "stream",
     "text": [
      "100%|██████████| 195M/195M [00:19<00:00, 761kB/s]"
     ]
    },
    {
     "name": "stdout",
     "output_type": "stream",
     "text": [
      "Extracting files...\n"
     ]
    },
    {
     "name": "stderr",
     "output_type": "stream",
     "text": [
      "\n"
     ]
    },
    {
     "name": "stdout",
     "output_type": "stream",
     "text": [
      "Path to dataset files: /home/azhar/.cache/kagglehub/datasets/aryashah2k/breast-ultrasound-images-dataset/versions/1\n"
     ]
    }
   ],
   "source": [
    "import kagglehub\n",
    "\n",
    "# Download latest version\n",
    "path = kagglehub.dataset_download(\"aryashah2k/breast-ultrasound-images-dataset\")\n",
    "\n",
    "print(\"Path to dataset files:\", path)"
   ]
  },
  {
   "cell_type": "markdown",
   "metadata": {},
   "source": [
    "# Dataset"
   ]
  },
  {
   "cell_type": "code",
   "execution_count": 19,
   "metadata": {},
   "outputs": [],
   "source": [
    "# Dataset path\n",
    "path = '/home/azhar/.cache/kagglehub/datasets/aryashah2k/breast-ultrasound-images-dataset/versions/1'"
   ]
  },
  {
   "cell_type": "code",
   "execution_count": 20,
   "metadata": {},
   "outputs": [
    {
     "data": {
      "text/plain": [
       "['Dataset_BUSI_with_GT']"
      ]
     },
     "execution_count": 20,
     "metadata": {},
     "output_type": "execute_result"
    }
   ],
   "source": [
    "os.listdir(path)"
   ]
  },
  {
   "cell_type": "code",
   "execution_count": 21,
   "metadata": {},
   "outputs": [],
   "source": [
    "dataset_dir = path + '/Dataset_BUSI_with_GT/'"
   ]
  },
  {
   "cell_type": "code",
   "execution_count": 22,
   "metadata": {},
   "outputs": [
    {
     "data": {
      "text/plain": [
       "['benign', 'normal', 'malignant']"
      ]
     },
     "execution_count": 22,
     "metadata": {},
     "output_type": "execute_result"
    }
   ],
   "source": [
    "os.listdir(dataset_dir)"
   ]
  },
  {
   "cell_type": "markdown",
   "metadata": {},
   "source": [
    "# Prepare Data"
   ]
  },
  {
   "cell_type": "markdown",
   "metadata": {},
   "source": [
    "Menyiapkan Dataset\n",
    "\n",
    "1. Img => data image (np.array)\n",
    "2. Mask => data mask (segmentation) (np.array)\n",
    "3. Label => target"
   ]
  },
  {
   "cell_type": "code",
   "execution_count": 23,
   "metadata": {},
   "outputs": [],
   "source": [
    "# Global Variable\n",
    "data_dict = {\n",
    "    'img': [],\n",
    "    'mask': [],\n",
    "    'label': [],\n",
    "}\n",
    "\n",
    "# Constanta\n",
    "SIZE = 128"
   ]
  },
  {
   "cell_type": "code",
   "execution_count": 24,
   "metadata": {},
   "outputs": [],
   "source": [
    "# Class Directory\n",
    "benign_dir = dataset_dir + 'benign/'\n",
    "malignant_dir = dataset_dir + 'malignant/'\n",
    "normal_dir = dataset_dir + 'normal/'"
   ]
  },
  {
   "cell_type": "markdown",
   "metadata": {},
   "source": [
    "## Benign"
   ]
  },
  {
   "cell_type": "code",
   "execution_count": 25,
   "metadata": {},
   "outputs": [],
   "source": [
    "# 1. Store image names\n",
    "# Get all the file names\n",
    "benign_data_list = os.listdir(benign_dir)\n",
    "\n",
    "datas = []\n",
    "for i in range(len(benign_data_list)):\n",
    "    datas.append(benign_data_list[i].split(\")\")[0] + ')')\n",
    "\n",
    "# Remove duplicate names\n",
    "datas = list(set(datas))"
   ]
  },
  {
   "cell_type": "code",
   "execution_count": 26,
   "metadata": {},
   "outputs": [
    {
     "name": "stdout",
     "output_type": "stream",
     "text": [
      "Total Benign Data: 437\n"
     ]
    }
   ],
   "source": [
    "print('Total Benign Data:', len(datas))"
   ]
  },
  {
   "cell_type": "code",
   "execution_count": 27,
   "metadata": {},
   "outputs": [],
   "source": [
    "# 2. Create Data\n",
    "for x in range(len(datas)):\n",
    "    # Image and Resize to 128x128\n",
    "    img = plt.imread(benign_dir + datas[x] + '.png')\n",
    "    if len(img.shape) > 2:\n",
    "        img = cv2.cvtColor(img, cv2.COLOR_RGB2GRAY)\n",
    "    img = cv2.resize(img, (SIZE, SIZE))\n",
    "    \n",
    "    # Mask\n",
    "    name_mask_files = [file for file in benign_data_list if file.startswith(datas[x] + '_mask')]\n",
    "    # Merge Mask\n",
    "    mask = np.zeros(shape=(SIZE, SIZE))\n",
    "    for mask_file in name_mask_files:\n",
    "        # print(mask_file)\n",
    "        mask_img = plt.imread(benign_dir + mask_file)\n",
    "        if len(mask_img.shape) > 2:\n",
    "            mask_img = cv2.cvtColor(mask_img, cv2.COLOR_RGB2GRAY)\n",
    "        mask_img = cv2.resize(mask_img, (SIZE, SIZE))\n",
    "        mask = np.maximum(mask, mask_img)\n",
    "    \n",
    "    # Label\n",
    "    label = 'benign'\n",
    "    \n",
    "    # Append Data\n",
    "    data_dict['img'].append(img)\n",
    "    data_dict['mask'].append(mask)\n",
    "    data_dict['label'].append(label)\n",
    "\n",
    "    # print(name_mask_files)"
   ]
  },
  {
   "cell_type": "markdown",
   "metadata": {},
   "source": [
    "## Malignant"
   ]
  },
  {
   "cell_type": "code",
   "execution_count": 29,
   "metadata": {},
   "outputs": [],
   "source": [
    "# 1. Store image names\n",
    "# Get all the file names\n",
    "malignant_data_list = os.listdir(malignant_dir)\n",
    "\n",
    "datas = []\n",
    "for i in range(len(malignant_data_list)):\n",
    "    datas.append(malignant_data_list[i].split(\")\")[0] + ')')\n",
    "\n",
    "# Remove duplicate names\n",
    "datas = list(set(datas))"
   ]
  },
  {
   "cell_type": "code",
   "execution_count": 30,
   "metadata": {},
   "outputs": [
    {
     "name": "stdout",
     "output_type": "stream",
     "text": [
      "Total Malignant Data: 210\n"
     ]
    }
   ],
   "source": [
    "print('Total Malignant Data:', len(datas))"
   ]
  },
  {
   "cell_type": "code",
   "execution_count": 31,
   "metadata": {},
   "outputs": [],
   "source": [
    "# 2. Create Data\n",
    "for x in range(len(datas)):\n",
    "    # Image and Resize to 128x128\n",
    "    img = plt.imread(malignant_dir + datas[x] + '.png')\n",
    "    if len(img.shape) > 2:\n",
    "        img = cv2.cvtColor(img, cv2.COLOR_RGB2GRAY)\n",
    "    img = cv2.resize(img, (SIZE, SIZE))\n",
    "    \n",
    "    # Mask\n",
    "    name_mask_files = [file for file in malignant_data_list if file.startswith(datas[x] + '_mask')]\n",
    "    # Merge Mask\n",
    "    mask = np.zeros(shape=(SIZE, SIZE))\n",
    "    for mask_file in name_mask_files:\n",
    "        # print(mask_file)\n",
    "        mask_img = plt.imread(malignant_dir + mask_file)\n",
    "        if len(mask_img.shape) > 2:\n",
    "            mask_img = cv2.cvtColor(mask_img, cv2.COLOR_RGB2GRAY)\n",
    "        mask_img = cv2.resize(mask_img, (SIZE, SIZE))\n",
    "        mask = np.maximum(mask, mask_img)\n",
    "    \n",
    "    # Label\n",
    "    label = 'malignant'\n",
    "    \n",
    "    # Append Data\n",
    "    data_dict['img'].append(img)\n",
    "    data_dict['mask'].append(mask)\n",
    "    data_dict['label'].append(label)\n",
    "\n",
    "    # print(name_mask_files)"
   ]
  },
  {
   "cell_type": "markdown",
   "metadata": {},
   "source": [
    "## Normal"
   ]
  },
  {
   "cell_type": "code",
   "execution_count": 32,
   "metadata": {},
   "outputs": [],
   "source": [
    "# 1. Store image names\n",
    "# Get all the file names\n",
    "normal_data_list = os.listdir(normal_dir)\n",
    "\n",
    "datas = []\n",
    "for i in range(len(normal_data_list)):\n",
    "    datas.append(normal_data_list[i].split(\")\")[0] + ')')\n",
    "\n",
    "# Remove duplicate names\n",
    "datas = list(set(datas))"
   ]
  },
  {
   "cell_type": "code",
   "execution_count": 33,
   "metadata": {},
   "outputs": [
    {
     "name": "stdout",
     "output_type": "stream",
     "text": [
      "Total Normal Data: 133\n"
     ]
    }
   ],
   "source": [
    "print('Total Normal Data:', len(datas))"
   ]
  },
  {
   "cell_type": "code",
   "execution_count": 34,
   "metadata": {},
   "outputs": [],
   "source": [
    "# 2. Create Data\n",
    "for x in range(len(datas)):\n",
    "    # Image and Resize to 128x128\n",
    "    img = plt.imread(normal_dir + datas[x] + '.png')\n",
    "    if len(img.shape) > 2:\n",
    "        img = cv2.cvtColor(img, cv2.COLOR_RGB2GRAY)\n",
    "    img = cv2.resize(img, (SIZE, SIZE))\n",
    "    \n",
    "    # Mask\n",
    "    name_mask_files = [file for file in normal_data_list if file.startswith(datas[x] + '_mask')]\n",
    "    # Merge Mask\n",
    "    mask = np.zeros(shape=(SIZE, SIZE))\n",
    "    for mask_file in name_mask_files:\n",
    "        # print(mask_file)\n",
    "        mask_img = plt.imread(normal_dir + mask_file)\n",
    "        if len(mask_img.shape) > 2:\n",
    "            mask_img = cv2.cvtColor(mask_img, cv2.COLOR_RGB2GRAY)\n",
    "        mask_img = cv2.resize(mask_img, (SIZE, SIZE))\n",
    "        mask = np.maximum(mask, mask_img)\n",
    "    \n",
    "    # Label\n",
    "    label = 'normal'\n",
    "    \n",
    "    # Append Data\n",
    "    data_dict['img'].append(img)\n",
    "    data_dict['mask'].append(mask)\n",
    "    data_dict['label'].append(label)\n",
    "\n",
    "    # print(name_mask_files)"
   ]
  },
  {
   "cell_type": "code",
   "execution_count": 35,
   "metadata": {},
   "outputs": [
    {
     "name": "stdout",
     "output_type": "stream",
     "text": [
      "Total Image: 780\n",
      "Total Mask 780\n",
      "Total Label 780\n"
     ]
    }
   ],
   "source": [
    "print('Total Image:', len(data_dict['img']))\n",
    "print('Total Mask', len(data_dict['mask']))\n",
    "print('Total Label', len(data_dict['label']))"
   ]
  },
  {
   "cell_type": "markdown",
   "metadata": {},
   "source": [
    "# Split Data"
   ]
  },
  {
   "cell_type": "code",
   "execution_count": 43,
   "metadata": {},
   "outputs": [],
   "source": [
    "class_dict = {\n",
    "    'benign': [],\n",
    "    'malignant': [],\n",
    "    'normal': [],\n",
    "}"
   ]
  },
  {
   "cell_type": "code",
   "execution_count": 44,
   "metadata": {},
   "outputs": [],
   "source": [
    "# Group the images by class\n",
    "for img, mask, label in zip(data_dict['img'], data_dict['mask'], data_dict['label']):\n",
    "    class_dict[label].append((img, mask, label))"
   ]
  },
  {
   "cell_type": "code",
   "execution_count": 46,
   "metadata": {},
   "outputs": [],
   "source": [
    "# Shuffle the images in each class\n",
    "for class_name in class_dict:\n",
    "    random.shuffle(class_dict[class_name])"
   ]
  },
  {
   "cell_type": "code",
   "execution_count": 47,
   "metadata": {},
   "outputs": [],
   "source": [
    "# x -> img, y -> mask, z -> label\n",
    "x_train, y_train, z_train = [], [], []\n",
    "x_val, y_val, z_val = [], [], []\n",
    "x_test, y_test, z_test = [], [], []"
   ]
  },
  {
   "cell_type": "code",
   "execution_count": 51,
   "metadata": {},
   "outputs": [],
   "source": [
    "# train/val/test - 80/10/10\n",
    "for class_name, images in class_dict.items():\n",
    "    num_images = len(images)\n",
    "    split_idx1 = int(num_images * 0.8)\n",
    "    split_idx2 = int(num_images * 0.9)\n",
    "    # print(num_images)\n",
    "    # print(class_name)\n",
    "\n",
    "    for i, (img, mask, label) in enumerate(images):\n",
    "        # print(i)\n",
    "        if i < split_idx1:\n",
    "            x_train.append(img)\n",
    "            y_train.append(mask)\n",
    "            z_train.append(label)\n",
    "        elif i < split_idx2:\n",
    "            x_val.append(img)\n",
    "            y_val.append(mask)\n",
    "            z_val.append(label)\n",
    "        else:\n",
    "            x_test.append(img)\n",
    "            y_test.append(mask)\n",
    "            z_test.append(label)"
   ]
  },
  {
   "cell_type": "code",
   "execution_count": 52,
   "metadata": {},
   "outputs": [],
   "source": [
    "x_train, y_train, z_train = np.array(x_train), np.array(y_train), np.array(z_train)\n",
    "x_val, y_val, z_val = np.array(x_val), np.array(y_val), np.array(z_val)\n",
    "x_test, y_test, z_test = np.array(x_test), np.array(y_test), np.array(z_test)"
   ]
  },
  {
   "cell_type": "code",
   "execution_count": 53,
   "metadata": {},
   "outputs": [],
   "source": [
    "if not os.path.exists(\"data\"+str(SIZE)):\n",
    "    os.makedirs(\"data\"+str(SIZE))"
   ]
  },
  {
   "cell_type": "code",
   "execution_count": 54,
   "metadata": {},
   "outputs": [],
   "source": [
    "# Save the data to disk\n",
    "np.save(f\"data{SIZE}/x_train.npy\", x_train)\n",
    "np.save(f\"data{SIZE}/x_val.npy\", x_val)\n",
    "np.save(f\"data{SIZE}/x_test.npy\", x_test)\n",
    "np.save(f\"data{SIZE}/y_train.npy\", y_train)\n",
    "np.save(f\"data{SIZE}/y_val.npy\", y_val)\n",
    "np.save(f\"data{SIZE}/y_test.npy\", y_test)\n",
    "np.save(f\"data{SIZE}/z_train.npy\", z_train)\n",
    "np.save(f\"data{SIZE}/z_val.npy\", z_val)\n",
    "np.save(f\"data{SIZE}/z_test.npy\", z_test)"
   ]
  }
 ],
 "metadata": {
  "kernelspec": {
   "display_name": "venv_1",
   "language": "python",
   "name": "python3"
  },
  "language_info": {
   "codemirror_mode": {
    "name": "ipython",
    "version": 3
   },
   "file_extension": ".py",
   "mimetype": "text/x-python",
   "name": "python",
   "nbconvert_exporter": "python",
   "pygments_lexer": "ipython3",
   "version": "3.12.3"
  }
 },
 "nbformat": 4,
 "nbformat_minor": 2
}
